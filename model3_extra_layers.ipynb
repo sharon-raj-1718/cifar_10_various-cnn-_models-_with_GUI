{
  "nbformat": 4,
  "nbformat_minor": 0,
  "metadata": {
    "colab": {
      "name": "model3_extra_layers.ipynb",
      "provenance": [],
      "authorship_tag": "ABX9TyPdktUUmcxJT1jgo9nUch7i",
      "include_colab_link": true
    },
    "kernelspec": {
      "name": "python3",
      "display_name": "Python 3"
    },
    "language_info": {
      "name": "python"
    },
    "accelerator": "GPU"
  },
  "cells": [
    {
      "cell_type": "markdown",
      "metadata": {
        "id": "view-in-github",
        "colab_type": "text"
      },
      "source": [
        "<a href=\"https://colab.research.google.com/github/sharon-raj-1718/cifar_10_various-cnn-_models-_with_GUI/blob/main/model3_extra_layers.ipynb\" target=\"_parent\"><img src=\"https://colab.research.google.com/assets/colab-badge.svg\" alt=\"Open In Colab\"/></a>"
      ]
    },
    {
      "cell_type": "code",
      "metadata": {
        "colab": {
          "base_uri": "https://localhost:8080/"
        },
        "id": "A0Xp5Iv5BITt",
        "outputId": "8d8bcce3-9a3d-43d3-9f7c-af5b16f0d6c5"
      },
      "source": [
        "from tensorflow.keras.datasets import cifar10\n",
        "\n",
        "(x_train, y_train), (x_test, y_test)=cifar10.load_data()\n",
        "\n",
        "print('Shape of x_train is {}'.format(x_train.shape))\n",
        "print('Shape of x_test is {}'.format(x_test.shape))\n",
        "print('Shape of y_train is {}'.format(y_train.shape))\n",
        "print('Shape of y_test is {}'.format(y_test.shape))"
      ],
      "execution_count": 2,
      "outputs": [
        {
          "output_type": "stream",
          "text": [
            "Downloading data from https://www.cs.toronto.edu/~kriz/cifar-10-python.tar.gz\n",
            "170500096/170498071 [==============================] - 2s 0us/step\n",
            "Shape of x_train is (50000, 32, 32, 3)\n",
            "Shape of x_test is (10000, 32, 32, 3)\n",
            "Shape of y_train is (50000, 1)\n",
            "Shape of y_test is (10000, 1)\n"
          ],
          "name": "stdout"
        }
      ]
    },
    {
      "cell_type": "code",
      "metadata": {
        "id": "YIj8IRCKBQZW"
      },
      "source": [
        "from tensorflow.keras.utils import to_categorical\n",
        "\n",
        "# Normalizing\n",
        "x_train=x_train/255\n",
        "x_test=x_test/255\n",
        "\n",
        "#One hot encoding\n",
        "y_train_cat=to_categorical(y_train,10)\n",
        "y_test_cat=to_categorical(y_test,10)"
      ],
      "execution_count": 3,
      "outputs": []
    },
    {
      "cell_type": "code",
      "metadata": {
        "id": "a2kup5gCBqSN"
      },
      "source": [
        "from tensorflow.keras.models import Sequential\n",
        "from tensorflow.keras.layers import Conv2D,MaxPool2D,Dense,Flatten,Dropout,Input, AveragePooling2D, Activation,Conv2D, MaxPooling2D, BatchNormalization,Concatenate\n",
        "from tensorflow.keras.callbacks import EarlyStopping, TensorBoard\n",
        "from tensorflow.keras import regularizers, optimizers\n",
        "from tensorflow.keras.preprocessing.image import ImageDataGenerator"
      ],
      "execution_count": 5,
      "outputs": []
    },
    {
      "cell_type": "code",
      "metadata": {
        "colab": {
          "base_uri": "https://localhost:8080/"
        },
        "id": "kPU2GtRVBV-s",
        "outputId": "9b420eb5-7159-4d58-da54-1aa141e141e9"
      },
      "source": [
        "model3 = Sequential()\n",
        "model3.add(Conv2D(filters = 64, kernel_size = (3,3), activation = 'relu', input_shape = (32,32,3)))\n",
        "model3.add(Conv2D(filters = 64, kernel_size = (3,3), activation = 'relu'))\n",
        "model3.add(MaxPool2D(2,2))\n",
        "model3.add(Dropout(0.4))\n",
        "\n",
        "\n",
        "model3.add(Conv2D(filters = 128, kernel_size = (3,3), activation = 'relu'))\n",
        "model3.add(Conv2D(filters = 128, kernel_size = (3,3), activation = 'relu'))\n",
        "model3.add(MaxPool2D(2,2))\n",
        "model3.add(Dropout(0.4))\n",
        "\n",
        "model3.add(Flatten())\n",
        "\n",
        "model3.add(Dense(units = 1024, activation = 'relu'))\n",
        "\n",
        "model3.add(Dense(units = 1024, activation = 'relu'))\n",
        "\n",
        "model3.add(Dense(units = 10, activation = 'softmax'))\n",
        "model3.compile(loss = 'categorical_crossentropy', optimizer = 'adam', metrics = ['accuracy'])\n",
        "# model3.fit_generator(train_generator,epochs=100,steps_per_epoch=training_steps,validation_data=test_generator,validation_steps=validation_steps,callbacks=[board])\n",
        "history3=model3.fit(x_train,y_train_cat,epochs=50,validation_data=(x_test,y_test_cat)) # Train for more number of epochs"
      ],
      "execution_count": 6,
      "outputs": [
        {
          "output_type": "stream",
          "text": [
            "Epoch 1/50\n",
            "1563/1563 [==============================] - 44s 8ms/step - loss: 1.6007 - accuracy: 0.4103 - val_loss: 1.2485 - val_accuracy: 0.5459\n",
            "Epoch 2/50\n",
            "1563/1563 [==============================] - 11s 7ms/step - loss: 1.1862 - accuracy: 0.5774 - val_loss: 0.9760 - val_accuracy: 0.6559\n",
            "Epoch 3/50\n",
            "1563/1563 [==============================] - 12s 7ms/step - loss: 1.0238 - accuracy: 0.6388 - val_loss: 0.8850 - val_accuracy: 0.6954\n",
            "Epoch 4/50\n",
            "1563/1563 [==============================] - 12s 8ms/step - loss: 0.9172 - accuracy: 0.6747 - val_loss: 0.8076 - val_accuracy: 0.7218\n",
            "Epoch 5/50\n",
            "1563/1563 [==============================] - 11s 7ms/step - loss: 0.8439 - accuracy: 0.7048 - val_loss: 0.8157 - val_accuracy: 0.7153\n",
            "Epoch 6/50\n",
            "1563/1563 [==============================] - 11s 7ms/step - loss: 0.7902 - accuracy: 0.7190 - val_loss: 0.8342 - val_accuracy: 0.7113\n",
            "Epoch 7/50\n",
            "1563/1563 [==============================] - 11s 7ms/step - loss: 0.7428 - accuracy: 0.7355 - val_loss: 0.7446 - val_accuracy: 0.7431\n",
            "Epoch 8/50\n",
            "1563/1563 [==============================] - 11s 7ms/step - loss: 0.7034 - accuracy: 0.7518 - val_loss: 0.7505 - val_accuracy: 0.7494\n",
            "Epoch 9/50\n",
            "1563/1563 [==============================] - 12s 8ms/step - loss: 0.6696 - accuracy: 0.7626 - val_loss: 0.7290 - val_accuracy: 0.7556\n",
            "Epoch 10/50\n",
            "1563/1563 [==============================] - 11s 7ms/step - loss: 0.6382 - accuracy: 0.7752 - val_loss: 0.7448 - val_accuracy: 0.7466\n",
            "Epoch 11/50\n",
            "1563/1563 [==============================] - 11s 7ms/step - loss: 0.6130 - accuracy: 0.7803 - val_loss: 0.7599 - val_accuracy: 0.7480\n",
            "Epoch 12/50\n",
            "1563/1563 [==============================] - 11s 7ms/step - loss: 0.5856 - accuracy: 0.7914 - val_loss: 0.7279 - val_accuracy: 0.7573\n",
            "Epoch 13/50\n",
            "1563/1563 [==============================] - 11s 7ms/step - loss: 0.5562 - accuracy: 0.8032 - val_loss: 0.7140 - val_accuracy: 0.7620\n",
            "Epoch 14/50\n",
            "1563/1563 [==============================] - 11s 7ms/step - loss: 0.5381 - accuracy: 0.8088 - val_loss: 0.7521 - val_accuracy: 0.7588\n",
            "Epoch 15/50\n",
            "1563/1563 [==============================] - 12s 7ms/step - loss: 0.5177 - accuracy: 0.8169 - val_loss: 0.7540 - val_accuracy: 0.7593\n",
            "Epoch 16/50\n",
            "1563/1563 [==============================] - 12s 8ms/step - loss: 0.4960 - accuracy: 0.8264 - val_loss: 0.7926 - val_accuracy: 0.7589\n",
            "Epoch 17/50\n",
            "1563/1563 [==============================] - 11s 7ms/step - loss: 0.4851 - accuracy: 0.8299 - val_loss: 0.7793 - val_accuracy: 0.7536\n",
            "Epoch 18/50\n",
            "1563/1563 [==============================] - 12s 8ms/step - loss: 0.4672 - accuracy: 0.8369 - val_loss: 0.7959 - val_accuracy: 0.7630\n",
            "Epoch 19/50\n",
            "1563/1563 [==============================] - 11s 7ms/step - loss: 0.4556 - accuracy: 0.8398 - val_loss: 0.8518 - val_accuracy: 0.7518\n",
            "Epoch 20/50\n",
            "1563/1563 [==============================] - 12s 8ms/step - loss: 0.4480 - accuracy: 0.8430 - val_loss: 0.7702 - val_accuracy: 0.7580\n",
            "Epoch 21/50\n",
            "1563/1563 [==============================] - 12s 8ms/step - loss: 0.4352 - accuracy: 0.8472 - val_loss: 0.7863 - val_accuracy: 0.7600\n",
            "Epoch 22/50\n",
            "1563/1563 [==============================] - 11s 7ms/step - loss: 0.4177 - accuracy: 0.8538 - val_loss: 0.7669 - val_accuracy: 0.7680\n",
            "Epoch 23/50\n",
            "1563/1563 [==============================] - 11s 7ms/step - loss: 0.4088 - accuracy: 0.8556 - val_loss: 0.7917 - val_accuracy: 0.7567\n",
            "Epoch 24/50\n",
            "1563/1563 [==============================] - 12s 7ms/step - loss: 0.3976 - accuracy: 0.8615 - val_loss: 0.8394 - val_accuracy: 0.7645\n",
            "Epoch 25/50\n",
            "1563/1563 [==============================] - 12s 7ms/step - loss: 0.3977 - accuracy: 0.8618 - val_loss: 0.8848 - val_accuracy: 0.7442\n",
            "Epoch 26/50\n",
            "1563/1563 [==============================] - 12s 8ms/step - loss: 0.3807 - accuracy: 0.8672 - val_loss: 0.8224 - val_accuracy: 0.7680\n",
            "Epoch 27/50\n",
            "1563/1563 [==============================] - 11s 7ms/step - loss: 0.3748 - accuracy: 0.8703 - val_loss: 0.8895 - val_accuracy: 0.7574\n",
            "Epoch 28/50\n",
            "1563/1563 [==============================] - 12s 8ms/step - loss: 0.3731 - accuracy: 0.8716 - val_loss: 0.8644 - val_accuracy: 0.7560\n",
            "Epoch 29/50\n",
            "1563/1563 [==============================] - 12s 8ms/step - loss: 0.3598 - accuracy: 0.8766 - val_loss: 0.8426 - val_accuracy: 0.7573\n",
            "Epoch 30/50\n",
            "1563/1563 [==============================] - 12s 8ms/step - loss: 0.3532 - accuracy: 0.8789 - val_loss: 0.8936 - val_accuracy: 0.7590\n",
            "Epoch 31/50\n",
            "1563/1563 [==============================] - 11s 7ms/step - loss: 0.3475 - accuracy: 0.8803 - val_loss: 0.8682 - val_accuracy: 0.7602\n",
            "Epoch 32/50\n",
            "1563/1563 [==============================] - 11s 7ms/step - loss: 0.3441 - accuracy: 0.8834 - val_loss: 0.8953 - val_accuracy: 0.7637\n",
            "Epoch 33/50\n",
            "1563/1563 [==============================] - 11s 7ms/step - loss: 0.3327 - accuracy: 0.8874 - val_loss: 0.8757 - val_accuracy: 0.7695\n",
            "Epoch 34/50\n",
            "1563/1563 [==============================] - 12s 8ms/step - loss: 0.3369 - accuracy: 0.8852 - val_loss: 0.8656 - val_accuracy: 0.7605\n",
            "Epoch 35/50\n",
            "1563/1563 [==============================] - 12s 7ms/step - loss: 0.3271 - accuracy: 0.8897 - val_loss: 0.8774 - val_accuracy: 0.7556\n",
            "Epoch 36/50\n",
            "1563/1563 [==============================] - 12s 8ms/step - loss: 0.3133 - accuracy: 0.8943 - val_loss: 0.8788 - val_accuracy: 0.7570\n",
            "Epoch 37/50\n",
            "1563/1563 [==============================] - 11s 7ms/step - loss: 0.3137 - accuracy: 0.8957 - val_loss: 0.8897 - val_accuracy: 0.7586\n",
            "Epoch 38/50\n",
            "1563/1563 [==============================] - 12s 8ms/step - loss: 0.3161 - accuracy: 0.8946 - val_loss: 0.9270 - val_accuracy: 0.7606\n",
            "Epoch 39/50\n",
            "1563/1563 [==============================] - 11s 7ms/step - loss: 0.3110 - accuracy: 0.8963 - val_loss: 0.9153 - val_accuracy: 0.7665\n",
            "Epoch 40/50\n",
            "1563/1563 [==============================] - 12s 7ms/step - loss: 0.3014 - accuracy: 0.8990 - val_loss: 0.9768 - val_accuracy: 0.7621\n",
            "Epoch 41/50\n",
            "1563/1563 [==============================] - 12s 8ms/step - loss: 0.2960 - accuracy: 0.9016 - val_loss: 0.9069 - val_accuracy: 0.7617\n",
            "Epoch 42/50\n",
            "1563/1563 [==============================] - 12s 8ms/step - loss: 0.2962 - accuracy: 0.9007 - val_loss: 0.9453 - val_accuracy: 0.7539\n",
            "Epoch 43/50\n",
            "1563/1563 [==============================] - 12s 8ms/step - loss: 0.2990 - accuracy: 0.9003 - val_loss: 0.8988 - val_accuracy: 0.7689\n",
            "Epoch 44/50\n",
            "1563/1563 [==============================] - 12s 8ms/step - loss: 0.2869 - accuracy: 0.9066 - val_loss: 0.9355 - val_accuracy: 0.7663\n",
            "Epoch 45/50\n",
            "1563/1563 [==============================] - 12s 8ms/step - loss: 0.2850 - accuracy: 0.9056 - val_loss: 0.9511 - val_accuracy: 0.7657\n",
            "Epoch 46/50\n",
            "1563/1563 [==============================] - 12s 7ms/step - loss: 0.2902 - accuracy: 0.9049 - val_loss: 0.9604 - val_accuracy: 0.7691\n",
            "Epoch 47/50\n",
            "1563/1563 [==============================] - 12s 7ms/step - loss: 0.2748 - accuracy: 0.9097 - val_loss: 0.9664 - val_accuracy: 0.7633\n",
            "Epoch 48/50\n",
            "1563/1563 [==============================] - 11s 7ms/step - loss: 0.2734 - accuracy: 0.9104 - val_loss: 0.9261 - val_accuracy: 0.7665\n",
            "Epoch 49/50\n",
            "1563/1563 [==============================] - 12s 7ms/step - loss: 0.2738 - accuracy: 0.9110 - val_loss: 0.9103 - val_accuracy: 0.7658\n",
            "Epoch 50/50\n",
            "1563/1563 [==============================] - 12s 7ms/step - loss: 0.2761 - accuracy: 0.9101 - val_loss: 0.9467 - val_accuracy: 0.7560\n"
          ],
          "name": "stdout"
        }
      ]
    },
    {
      "cell_type": "code",
      "metadata": {
        "colab": {
          "base_uri": "https://localhost:8080/",
          "height": 282
        },
        "id": "HNJ4BodiEW1Y",
        "outputId": "797aa79a-a7d2-45fc-f38d-3f9cf02f2859"
      },
      "source": [
        "import pandas as pd\n",
        "pd.DataFrame(history3.history).plot()\n",
        "\n"
      ],
      "execution_count": 9,
      "outputs": [
        {
          "output_type": "execute_result",
          "data": {
            "text/plain": [
              "<matplotlib.axes._subplots.AxesSubplot at 0x7faa2a7c8f50>"
            ]
          },
          "metadata": {
            "tags": []
          },
          "execution_count": 9
        },
        {
          "output_type": "display_data",
          "data": {
            "image/png": "[encoded data removed]",
            "text/plain": [
              "<Figure size 432x288 with 1 Axes>"
            ]
          },
          "metadata": {
            "tags": [],
            "needs_background": "light"
          }
        }
      ]
    },
    {
      "cell_type": "code",
      "metadata": {
        "colab": {
          "base_uri": "https://localhost:8080/"
        },
        "id": "uD2jk38JEXhh",
        "outputId": "35057817-70bf-44e7-bf69-20a8e00aa765"
      },
      "source": [
        "evaluation = model3.evaluate(x_test, y_test_cat)\n",
        "print('Test Accuracy: {}'.format(evaluation[1]))"
      ],
      "execution_count": 11,
      "outputs": [
        {
          "output_type": "stream",
          "text": [
            "313/313 [==============================] - 1s 4ms/step - loss: 0.9467 - accuracy: 0.7560\n",
            "Test Accuracy: 0.7559999823570251\n"
          ],
          "name": "stdout"
        }
      ]
    },
    {
      "cell_type": "code",
      "metadata": {
        "id": "VfAey9lQFXMm"
      },
      "source": [
        "model3.save(\"cifar10_extra_layers_filters_model.h5\")"
      ],
      "execution_count": 12,
      "outputs": []
    },
    {
      "cell_type": "code",
      "metadata": {
        "id": "5NCRuj8FGDqS"
      },
      "source": [
        ""
      ],
      "execution_count": null,
      "outputs": []
    }
  ]
}