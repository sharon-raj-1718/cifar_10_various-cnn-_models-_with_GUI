{
  "nbformat": 4,
  "nbformat_minor": 0,
  "metadata": {
    "colab": {
      "name": "batch_normal.ipynb",
      "provenance": [],
      "authorship_tag": "ABX9TyMrfr7QtnH3Am89rDFGPMMu",
      "include_colab_link": true
    },
    "kernelspec": {
      "name": "python3",
      "display_name": "Python 3"
    },
    "language_info": {
      "name": "python"
    },
    "accelerator": "GPU"
  },
  "cells": [
    {
      "cell_type": "markdown",
      "metadata": {
        "id": "view-in-github",
        "colab_type": "text"
      },
      "source": [
        "<a href=\"https://colab.research.google.com/github/sharon-raj-1718/cifar_10_various-cnn-_models-_with_GUI/blob/main/batch_normal.ipynb\" target=\"_parent\"><img src=\"https://colab.research.google.com/assets/colab-badge.svg\" alt=\"Open In Colab\"/></a>"
      ]
    },
    {
      "cell_type": "code",
      "metadata": {
        "colab": {
          "base_uri": "https://localhost:8080/"
        },
        "id": "WwfLwR_XYuVD",
        "outputId": "a002bd24-ad10-4e4c-d732-fc657e0a6bee"
      },
      "source": [
        "from tensorflow.keras.datasets import cifar10\n",
        "\n",
        "(x_train, y_train), (x_test, y_test)=cifar10.load_data()\n",
        "\n",
        "print('Shape of x_train is {}'.format(x_train.shape))\n",
        "print('Shape of x_test is {}'.format(x_test.shape))\n",
        "print('Shape of y_train is {}'.format(y_train.shape))\n",
        "print('Shape of y_test is {}'.format(y_test.shape))"
      ],
      "execution_count": 1,
      "outputs": [
        {
          "output_type": "stream",
          "text": [
            "Downloading data from https://www.cs.toronto.edu/~kriz/cifar-10-python.tar.gz\n",
            "170500096/170498071 [==============================] - 2s 0us/step\n",
            "Shape of x_train is (50000, 32, 32, 3)\n",
            "Shape of x_test is (10000, 32, 32, 3)\n",
            "Shape of y_train is (50000, 1)\n",
            "Shape of y_test is (10000, 1)\n"
          ],
          "name": "stdout"
        }
      ]
    },
    {
      "cell_type": "code",
      "metadata": {
        "id": "YIj8IRCKBQZW"
      },
      "source": [
        "from tensorflow.keras.utils import to_categorical\n",
        "\n",
        "# Normalizing\n",
        "x_train=x_train/255\n",
        "x_test=x_test/255\n",
        "\n",
        "#One hot encoding\n",
        "y_train_cat=to_categorical(y_train,10)\n",
        "y_test_cat=to_categorical(y_test,10)"
      ],
      "execution_count": 2,
      "outputs": []
    },
    {
      "cell_type": "code",
      "metadata": {
        "id": "VC5X-X1VZBkQ"
      },
      "source": [
        "from tensorflow.keras.models import Sequential\n",
        "from tensorflow.keras.layers import Conv2D,MaxPool2D,Dense,Flatten,Dropout,Input, AveragePooling2D, Activation,Conv2D, MaxPooling2D, BatchNormalization,Concatenate\n",
        "from tensorflow.keras.callbacks import EarlyStopping, TensorBoard\n",
        "from tensorflow.keras import regularizers, optimizers\n",
        "from tensorflow.keras.preprocessing.image import ImageDataGenerator"
      ],
      "execution_count": 3,
      "outputs": []
    },
    {
      "cell_type": "code",
      "metadata": {
        "colab": {
          "base_uri": "https://localhost:8080/"
        },
        "id": "jAoSZb66ZG3Y",
        "outputId": "4fcc2107-c078-498e-ea2d-783a5ec600ae"
      },
      "source": [
        "model5 = Sequential()\n",
        "model5.add(Conv2D(32, (3, 3), activation='relu', kernel_initializer='he_uniform', padding='same', input_shape=(32, 32, 3)))\n",
        "model5.add(BatchNormalization())\n",
        "model5.add(Conv2D(32, (3, 3), activation='relu', kernel_initializer='he_uniform', padding='same'))\n",
        "model5.add(BatchNormalization())\n",
        "model5.add(MaxPool2D((2, 2)))\n",
        "model5.add(Dropout(0.2))\n",
        "model5.add(Conv2D(64, (3, 3), activation='relu', kernel_initializer='he_uniform', padding='same'))\n",
        "model5.add(BatchNormalization())\n",
        "model5.add(Conv2D(64, (3, 3), activation='relu', kernel_initializer='he_uniform', padding='same'))\n",
        "model5.add(BatchNormalization())\n",
        "model5.add(MaxPool2D((2, 2)))\n",
        "model5.add(Dropout(0.3))\n",
        "model5.add(Conv2D(128, (3, 3), activation='relu', kernel_initializer='he_uniform', padding='same'))\n",
        "model5.add(BatchNormalization())\n",
        "model5.add(Conv2D(128, (3, 3), activation='relu', kernel_initializer='he_uniform', padding='same'))\n",
        "model5.add(BatchNormalization())\n",
        "model5.add(MaxPool2D((2, 2)))\n",
        "model5.add(Dropout(0.4))\n",
        "model5.add(Flatten())\n",
        "model5.add(Dense(128, activation='relu', kernel_initializer='he_uniform'))\n",
        "model5.add(BatchNormalization())\n",
        "model5.add(Dropout(0.5))\n",
        "model5.add(Dense(10, activation='softmax'))\n",
        "# compile model\n",
        "# opt = SGD(lr=0.001, momentum=0.9)\n",
        "model5.compile(optimizer='adam', loss='categorical_crossentropy', metrics=['accuracy'])\n",
        "# model5.fit_generator(train_generator,epochs=200,steps_per_epoch=training_steps,validation_data=test_generator,validation_steps=validation_steps,callbacks=[board])\n",
        "history5=model5.fit(x_train,y_train_cat,epochs=50,validation_data=(x_test,y_test_cat))\n"
      ],
      "execution_count": 4,
      "outputs": [
        {
          "output_type": "stream",
          "text": [
            "Epoch 1/50\n",
            "1563/1563 [==============================] - 47s 9ms/step - loss: 1.5867 - accuracy: 0.4505 - val_loss: 1.0672 - val_accuracy: 0.6189\n",
            "Epoch 2/50\n",
            "1563/1563 [==============================] - 13s 9ms/step - loss: 1.0607 - accuracy: 0.6274 - val_loss: 0.8512 - val_accuracy: 0.6974\n",
            "Epoch 3/50\n",
            "1563/1563 [==============================] - 13s 9ms/step - loss: 0.8893 - accuracy: 0.6911 - val_loss: 0.7679 - val_accuracy: 0.7309\n",
            "Epoch 4/50\n",
            "1563/1563 [==============================] - 13s 8ms/step - loss: 0.7899 - accuracy: 0.7261 - val_loss: 0.6446 - val_accuracy: 0.7822\n",
            "Epoch 5/50\n",
            "1563/1563 [==============================] - 13s 8ms/step - loss: 0.7170 - accuracy: 0.7531 - val_loss: 0.6403 - val_accuracy: 0.7779\n",
            "Epoch 6/50\n",
            "1563/1563 [==============================] - 14s 9ms/step - loss: 0.6555 - accuracy: 0.7763 - val_loss: 0.5723 - val_accuracy: 0.8056\n",
            "Epoch 7/50\n",
            "1563/1563 [==============================] - 13s 8ms/step - loss: 0.6088 - accuracy: 0.7941 - val_loss: 0.5358 - val_accuracy: 0.8200\n",
            "Epoch 8/50\n",
            "1563/1563 [==============================] - 14s 9ms/step - loss: 0.5762 - accuracy: 0.8031 - val_loss: 0.5273 - val_accuracy: 0.8214\n",
            "Epoch 9/50\n",
            "1563/1563 [==============================] - 13s 8ms/step - loss: 0.5407 - accuracy: 0.8160 - val_loss: 0.5165 - val_accuracy: 0.8244\n",
            "Epoch 10/50\n",
            "1563/1563 [==============================] - 13s 8ms/step - loss: 0.5092 - accuracy: 0.8265 - val_loss: 0.5321 - val_accuracy: 0.8176\n",
            "Epoch 11/50\n",
            "1563/1563 [==============================] - 13s 8ms/step - loss: 0.4902 - accuracy: 0.8332 - val_loss: 0.5402 - val_accuracy: 0.8194\n",
            "Epoch 12/50\n",
            "1563/1563 [==============================] - 13s 8ms/step - loss: 0.4683 - accuracy: 0.8396 - val_loss: 0.4760 - val_accuracy: 0.8354\n",
            "Epoch 13/50\n",
            "1563/1563 [==============================] - 13s 8ms/step - loss: 0.4497 - accuracy: 0.8466 - val_loss: 0.4640 - val_accuracy: 0.8441\n",
            "Epoch 14/50\n",
            "1563/1563 [==============================] - 13s 8ms/step - loss: 0.4342 - accuracy: 0.8505 - val_loss: 0.4453 - val_accuracy: 0.8496\n",
            "Epoch 15/50\n",
            "1563/1563 [==============================] - 13s 8ms/step - loss: 0.4191 - accuracy: 0.8570 - val_loss: 0.4560 - val_accuracy: 0.8507\n",
            "Epoch 16/50\n",
            "1563/1563 [==============================] - 13s 8ms/step - loss: 0.4046 - accuracy: 0.8624 - val_loss: 0.4363 - val_accuracy: 0.8534\n",
            "Epoch 17/50\n",
            "1563/1563 [==============================] - 13s 8ms/step - loss: 0.3957 - accuracy: 0.8642 - val_loss: 0.4632 - val_accuracy: 0.8436\n",
            "Epoch 18/50\n",
            "1563/1563 [==============================] - 13s 9ms/step - loss: 0.3782 - accuracy: 0.8700 - val_loss: 0.4694 - val_accuracy: 0.8426\n",
            "Epoch 19/50\n",
            "1563/1563 [==============================] - 13s 8ms/step - loss: 0.3720 - accuracy: 0.8717 - val_loss: 0.4683 - val_accuracy: 0.8501\n",
            "Epoch 20/50\n",
            "1563/1563 [==============================] - 13s 8ms/step - loss: 0.3603 - accuracy: 0.8764 - val_loss: 0.4436 - val_accuracy: 0.8520\n",
            "Epoch 21/50\n",
            "1563/1563 [==============================] - 13s 8ms/step - loss: 0.3465 - accuracy: 0.8802 - val_loss: 0.4230 - val_accuracy: 0.8642\n",
            "Epoch 22/50\n",
            "1563/1563 [==============================] - 13s 8ms/step - loss: 0.3412 - accuracy: 0.8823 - val_loss: 0.4357 - val_accuracy: 0.8563\n",
            "Epoch 23/50\n",
            "1563/1563 [==============================] - 13s 8ms/step - loss: 0.3356 - accuracy: 0.8832 - val_loss: 0.4198 - val_accuracy: 0.8640\n",
            "Epoch 24/50\n",
            "1563/1563 [==============================] - 13s 8ms/step - loss: 0.3251 - accuracy: 0.8872 - val_loss: 0.4481 - val_accuracy: 0.8552\n",
            "Epoch 25/50\n",
            "1563/1563 [==============================] - 13s 8ms/step - loss: 0.3239 - accuracy: 0.8904 - val_loss: 0.4204 - val_accuracy: 0.8664\n",
            "Epoch 26/50\n",
            "1563/1563 [==============================] - 13s 9ms/step - loss: 0.3149 - accuracy: 0.8925 - val_loss: 0.4657 - val_accuracy: 0.8530\n",
            "Epoch 27/50\n",
            "1563/1563 [==============================] - 13s 9ms/step - loss: 0.3049 - accuracy: 0.8950 - val_loss: 0.4738 - val_accuracy: 0.8537\n",
            "Epoch 28/50\n",
            "1563/1563 [==============================] - 13s 8ms/step - loss: 0.2995 - accuracy: 0.8982 - val_loss: 0.4274 - val_accuracy: 0.8651\n",
            "Epoch 29/50\n",
            "1563/1563 [==============================] - 13s 8ms/step - loss: 0.2972 - accuracy: 0.8980 - val_loss: 0.4399 - val_accuracy: 0.8618\n",
            "Epoch 30/50\n",
            "1563/1563 [==============================] - 13s 8ms/step - loss: 0.2928 - accuracy: 0.8995 - val_loss: 0.4467 - val_accuracy: 0.8637\n",
            "Epoch 31/50\n",
            "1563/1563 [==============================] - 13s 8ms/step - loss: 0.2863 - accuracy: 0.9010 - val_loss: 0.4254 - val_accuracy: 0.8683\n",
            "Epoch 32/50\n",
            "1563/1563 [==============================] - 13s 8ms/step - loss: 0.2765 - accuracy: 0.9042 - val_loss: 0.4739 - val_accuracy: 0.8500\n",
            "Epoch 33/50\n",
            "1563/1563 [==============================] - 13s 8ms/step - loss: 0.2703 - accuracy: 0.9060 - val_loss: 0.4436 - val_accuracy: 0.8641\n",
            "Epoch 34/50\n",
            "1563/1563 [==============================] - 13s 8ms/step - loss: 0.2723 - accuracy: 0.9061 - val_loss: 0.4398 - val_accuracy: 0.8627\n",
            "Epoch 35/50\n",
            "1563/1563 [==============================] - 13s 8ms/step - loss: 0.2667 - accuracy: 0.9086 - val_loss: 0.4322 - val_accuracy: 0.8731\n",
            "Epoch 36/50\n",
            "1563/1563 [==============================] - 13s 9ms/step - loss: 0.2638 - accuracy: 0.9096 - val_loss: 0.4123 - val_accuracy: 0.8747\n",
            "Epoch 37/50\n",
            "1563/1563 [==============================] - 13s 8ms/step - loss: 0.2566 - accuracy: 0.9121 - val_loss: 0.4294 - val_accuracy: 0.8673\n",
            "Epoch 38/50\n",
            "1563/1563 [==============================] - 13s 8ms/step - loss: 0.2532 - accuracy: 0.9118 - val_loss: 0.4463 - val_accuracy: 0.8640\n",
            "Epoch 39/50\n",
            "1563/1563 [==============================] - 13s 8ms/step - loss: 0.2459 - accuracy: 0.9143 - val_loss: 0.4414 - val_accuracy: 0.8682\n",
            "Epoch 40/50\n",
            "1563/1563 [==============================] - 13s 8ms/step - loss: 0.2460 - accuracy: 0.9146 - val_loss: 0.4314 - val_accuracy: 0.8720\n",
            "Epoch 41/50\n",
            "1563/1563 [==============================] - 13s 9ms/step - loss: 0.2477 - accuracy: 0.9142 - val_loss: 0.4413 - val_accuracy: 0.8663\n",
            "Epoch 42/50\n",
            "1563/1563 [==============================] - 13s 8ms/step - loss: 0.2395 - accuracy: 0.9167 - val_loss: 0.4284 - val_accuracy: 0.8690\n",
            "Epoch 43/50\n",
            "1563/1563 [==============================] - 13s 9ms/step - loss: 0.2368 - accuracy: 0.9180 - val_loss: 0.4517 - val_accuracy: 0.8681\n",
            "Epoch 44/50\n",
            "1563/1563 [==============================] - 13s 8ms/step - loss: 0.2402 - accuracy: 0.9157 - val_loss: 0.4145 - val_accuracy: 0.8752\n",
            "Epoch 45/50\n",
            "1563/1563 [==============================] - 13s 9ms/step - loss: 0.2289 - accuracy: 0.9210 - val_loss: 0.4509 - val_accuracy: 0.8692\n",
            "Epoch 46/50\n",
            "1563/1563 [==============================] - 13s 9ms/step - loss: 0.2284 - accuracy: 0.9208 - val_loss: 0.4489 - val_accuracy: 0.8690\n",
            "Epoch 47/50\n",
            "1563/1563 [==============================] - 13s 9ms/step - loss: 0.2267 - accuracy: 0.9234 - val_loss: 0.4222 - val_accuracy: 0.8760\n",
            "Epoch 48/50\n",
            "1563/1563 [==============================] - 13s 8ms/step - loss: 0.2201 - accuracy: 0.9240 - val_loss: 0.4428 - val_accuracy: 0.8674\n",
            "Epoch 49/50\n",
            "1563/1563 [==============================] - 14s 9ms/step - loss: 0.2235 - accuracy: 0.9233 - val_loss: 0.4474 - val_accuracy: 0.8677\n",
            "Epoch 50/50\n",
            "1563/1563 [==============================] - 13s 9ms/step - loss: 0.2176 - accuracy: 0.9250 - val_loss: 0.4171 - val_accuracy: 0.8776\n"
          ],
          "name": "stdout"
        }
      ]
    },
    {
      "cell_type": "code",
      "metadata": {
        "colab": {
          "base_uri": "https://localhost:8080/",
          "height": 282
        },
        "id": "tlxii3AJZdrf",
        "outputId": "4a8cd75b-efd4-4163-f87e-c7b87f4e985d"
      },
      "source": [
        "import pandas as pd\n",
        "pd.DataFrame(history5.history).plot()"
      ],
      "execution_count": 5,
      "outputs": [
        {
          "output_type": "execute_result",
          "data": {
            "text/plain": [
              "<matplotlib.axes._subplots.AxesSubplot at 0x7fa046614d90>"
            ]
          },
          "metadata": {
            "tags": []
          },
          "execution_count": 5
        },
        {
          "output_type": "display_data",
          "data": {
            "image/png": "[encoded data removed]",
            "text/plain": [
              "<Figure size 432x288 with 1 Axes>"
            ]
          },
          "metadata": {
            "tags": [],
            "needs_background": "light"
          }
        }
      ]
    },
    {
      "cell_type": "code",
      "metadata": {
        "colab": {
          "base_uri": "https://localhost:8080/"
        },
        "id": "CtsnRkqccaTA",
        "outputId": "af83c808-7083-46d4-88df-0f86aee71c12"
      },
      "source": [
        "evaluation = model5.evaluate(x_test, y_test_cat)\n",
        "print('Test Accuracy: {}'.format(evaluation[1]))"
      ],
      "execution_count": 6,
      "outputs": [
        {
          "output_type": "stream",
          "text": [
            "313/313 [==============================] - 1s 4ms/step - loss: 0.4171 - accuracy: 0.8776\n",
            "Test Accuracy: 0.8776000142097473\n"
          ],
          "name": "stdout"
        }
      ]
    },
    {
      "cell_type": "code",
      "metadata": {
        "id": "DXLcMnfFcinW"
      },
      "source": [
        "model5.save(\"cifar10_batch normalization_model.h5\")"
      ],
      "execution_count": 7,
      "outputs": []
    },
    {
      "cell_type": "code",
      "metadata": {
        "id": "b6LUk9IFctrV"
      },
      "source": [
        ""
      ],
      "execution_count": null,
      "outputs": []
    }
  ]
}