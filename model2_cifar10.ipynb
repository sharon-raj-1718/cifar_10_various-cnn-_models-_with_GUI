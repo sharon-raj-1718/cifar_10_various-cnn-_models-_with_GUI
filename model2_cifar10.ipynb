{
  "nbformat": 4,
  "nbformat_minor": 0,
  "metadata": {
    "colab": {
      "name": "model2_cifar10.ipynb",
      "provenance": [],
      "authorship_tag": "ABX9TyN2+uY0BoMK5abugF09/orL",
      "include_colab_link": true
    },
    "kernelspec": {
      "name": "python3",
      "display_name": "Python 3"
    },
    "language_info": {
      "name": "python"
    },
    "accelerator": "GPU"
  },
  "cells": [
    {
      "cell_type": "markdown",
      "metadata": {
        "id": "view-in-github",
        "colab_type": "text"
      },
      "source": [
        "<a href=\"https://colab.research.google.com/github/sharon-raj-1718/cifar_10_various-cnn-_models-_with_GUI/blob/main/model2_cifar10.ipynb\" target=\"_parent\"><img src=\"https://colab.research.google.com/assets/colab-badge.svg\" alt=\"Open In Colab\"/></a>"
      ]
    },
    {
      "cell_type": "code",
      "metadata": {
        "colab": {
          "base_uri": "https://localhost:8080/"
        },
        "id": "o2JtnjGP9BZq",
        "outputId": "113425ce-4263-4e42-deb6-87f68f13502a"
      },
      "source": [
        "from tensorflow.keras.datasets import cifar10\n",
        "\n",
        "(x_train, y_train), (x_test, y_test)=cifar10.load_data()\n",
        "\n",
        "print('Shape of x_train is {}'.format(x_train.shape))\n",
        "print('Shape of x_test is {}'.format(x_test.shape))\n",
        "print('Shape of y_train is {}'.format(y_train.shape))\n",
        "print('Shape of y_test is {}'.format(y_test.shape))"
      ],
      "execution_count": 1,
      "outputs": [
        {
          "output_type": "stream",
          "text": [
            "Downloading data from https://www.cs.toronto.edu/~kriz/cifar-10-python.tar.gz\n",
            "170500096/170498071 [==============================] - 4s 0us/step\n",
            "Shape of x_train is (50000, 32, 32, 3)\n",
            "Shape of x_test is (10000, 32, 32, 3)\n",
            "Shape of y_train is (50000, 1)\n",
            "Shape of y_test is (10000, 1)\n"
          ],
          "name": "stdout"
        }
      ]
    },
    {
      "cell_type": "code",
      "metadata": {
        "id": "ZpHtrXUL9MRC"
      },
      "source": [
        "from tensorflow.keras.utils import to_categorical\n",
        "\n",
        "# Normalizing\n",
        "x_train=x_train/255\n",
        "x_test=x_test/255\n",
        "\n",
        "#One hot encoding\n",
        "y_train_cat=to_categorical(y_train,10)\n",
        "y_test_cat=to_categorical(y_test,10)"
      ],
      "execution_count": 2,
      "outputs": []
    },
    {
      "cell_type": "code",
      "metadata": {
        "id": "Bxzm05HM9Zm1"
      },
      "source": [
        "from tensorflow.keras.models import Sequential\n",
        "from tensorflow.keras.layers import Conv2D,MaxPool2D,Dense,Flatten,Dropout,Input, AveragePooling2D, Activation,Conv2D, MaxPooling2D, BatchNormalization,Concatenate\n",
        "from tensorflow.keras.callbacks import EarlyStopping, TensorBoard\n",
        "from tensorflow.keras import regularizers, optimizers\n",
        "from tensorflow.keras.preprocessing.image import ImageDataGenerator"
      ],
      "execution_count": 4,
      "outputs": []
    },
    {
      "cell_type": "code",
      "metadata": {
        "colab": {
          "base_uri": "https://localhost:8080/"
        },
        "id": "CzpLsD8-9dts",
        "outputId": "776651f0-308d-4269-f593-fc628047b726"
      },
      "source": [
        "model2=Sequential()\n",
        "model2.add(Conv2D(filters=32,kernel_size=(4,4),input_shape=(32,32,3),activation='relu'))\n",
        "model2.add(MaxPool2D(pool_size=(2,2)))\n",
        "model2.add(Dropout(0.25)) # Drop 25% of the units from the layer.\n",
        "model2.add(Conv2D(filters=32,kernel_size=(4,4),input_shape=(32,32,3),activation='relu'))\n",
        "model2.add(MaxPool2D(pool_size=(2,2)))\n",
        "model2.add(Dropout(0.25))\n",
        "model2.add(Flatten())\n",
        "model2.add(Dense(256,activation='relu'))\n",
        "model2.add(Dense(10,activation='softmax'))\n",
        "model2.compile(loss='categorical_crossentropy',optimizer='adam',metrics=['accuracy'])\n",
        "# training_steps = train_generator.samples//train_generator.batch_size\n",
        "# validation_steps=test_generator.samples//test_generator.batch_size\n",
        "# model2.fit_generator(train_generator,epochs=100,steps_per_epoch=training_steps,validation_data=test_generator,validation_steps=validation_steps,callbacks=[board])\n",
        "history2=model2.fit(x_train,y_train_cat,epochs=20,validation_data=(x_test,y_test_cat))"
      ],
      "execution_count": 5,
      "outputs": [
        {
          "output_type": "stream",
          "text": [
            "Epoch 1/20\n",
            "1563/1563 [==============================] - 39s 5ms/step - loss: 1.5674 - accuracy: 0.4295 - val_loss: 1.2897 - val_accuracy: 0.5448\n",
            "Epoch 2/20\n",
            "1563/1563 [==============================] - 7s 5ms/step - loss: 1.2570 - accuracy: 0.5528 - val_loss: 1.0933 - val_accuracy: 0.6138\n",
            "Epoch 3/20\n",
            "1563/1563 [==============================] - 6s 4ms/step - loss: 1.1210 - accuracy: 0.6036 - val_loss: 1.0567 - val_accuracy: 0.6279\n",
            "Epoch 4/20\n",
            "1563/1563 [==============================] - 6s 4ms/step - loss: 1.0328 - accuracy: 0.6363 - val_loss: 0.9512 - val_accuracy: 0.6640\n",
            "Epoch 5/20\n",
            "1563/1563 [==============================] - 7s 4ms/step - loss: 0.9645 - accuracy: 0.6612 - val_loss: 0.9310 - val_accuracy: 0.6790\n",
            "Epoch 6/20\n",
            "1563/1563 [==============================] - 6s 4ms/step - loss: 0.9107 - accuracy: 0.6795 - val_loss: 0.9063 - val_accuracy: 0.6874\n",
            "Epoch 7/20\n",
            "1563/1563 [==============================] - 7s 4ms/step - loss: 0.8650 - accuracy: 0.6960 - val_loss: 0.9519 - val_accuracy: 0.6759\n",
            "Epoch 8/20\n",
            "1563/1563 [==============================] - 7s 4ms/step - loss: 0.8303 - accuracy: 0.7079 - val_loss: 0.8963 - val_accuracy: 0.6934\n",
            "Epoch 9/20\n",
            "1563/1563 [==============================] - 6s 4ms/step - loss: 0.7942 - accuracy: 0.7217 - val_loss: 0.8724 - val_accuracy: 0.7000\n",
            "Epoch 10/20\n",
            "1563/1563 [==============================] - 7s 4ms/step - loss: 0.7621 - accuracy: 0.7330 - val_loss: 0.9179 - val_accuracy: 0.6866\n",
            "Epoch 11/20\n",
            "1563/1563 [==============================] - 7s 5ms/step - loss: 0.7476 - accuracy: 0.7346 - val_loss: 0.8882 - val_accuracy: 0.6939\n",
            "Epoch 12/20\n",
            "1563/1563 [==============================] - 7s 4ms/step - loss: 0.7190 - accuracy: 0.7458 - val_loss: 0.8571 - val_accuracy: 0.7051\n",
            "Epoch 13/20\n",
            "1563/1563 [==============================] - 7s 4ms/step - loss: 0.6941 - accuracy: 0.7533 - val_loss: 0.8683 - val_accuracy: 0.7031\n",
            "Epoch 14/20\n",
            "1563/1563 [==============================] - 6s 4ms/step - loss: 0.6806 - accuracy: 0.7600 - val_loss: 0.8746 - val_accuracy: 0.7049\n",
            "Epoch 15/20\n",
            "1563/1563 [==============================] - 7s 5ms/step - loss: 0.6571 - accuracy: 0.7668 - val_loss: 0.8713 - val_accuracy: 0.7092\n",
            "Epoch 16/20\n",
            "1563/1563 [==============================] - 7s 4ms/step - loss: 0.6500 - accuracy: 0.7708 - val_loss: 0.8691 - val_accuracy: 0.7100\n",
            "Epoch 17/20\n",
            "1563/1563 [==============================] - 7s 4ms/step - loss: 0.6328 - accuracy: 0.7756 - val_loss: 0.8952 - val_accuracy: 0.7053\n",
            "Epoch 18/20\n",
            "1563/1563 [==============================] - 7s 4ms/step - loss: 0.6216 - accuracy: 0.7794 - val_loss: 0.8769 - val_accuracy: 0.7122\n",
            "Epoch 19/20\n",
            "1563/1563 [==============================] - 7s 4ms/step - loss: 0.6066 - accuracy: 0.7826 - val_loss: 0.8967 - val_accuracy: 0.7079\n",
            "Epoch 20/20\n",
            "1563/1563 [==============================] - 7s 5ms/step - loss: 0.5977 - accuracy: 0.7879 - val_loss: 0.8945 - val_accuracy: 0.7079\n"
          ],
          "name": "stdout"
        }
      ]
    },
    {
      "cell_type": "code",
      "metadata": {
        "colab": {
          "base_uri": "https://localhost:8080/"
        },
        "id": "Nz5U67af9obk",
        "outputId": "d9d5faa6-22a2-43bd-8daf-6380b27b9afc"
      },
      "source": [
        "evaluation = model2.evaluate(x_test, y_test_cat)\n",
        "print('Test Accuracy: {}'.format(evaluation[1]))"
      ],
      "execution_count": 6,
      "outputs": [
        {
          "output_type": "stream",
          "text": [
            "313/313 [==============================] - 1s 3ms/step - loss: 0.8945 - accuracy: 0.7079\n",
            "Test Accuracy: 0.7078999876976013\n"
          ],
          "name": "stdout"
        }
      ]
    },
    {
      "cell_type": "code",
      "metadata": {
        "colab": {
          "base_uri": "https://localhost:8080/",
          "height": 282
        },
        "id": "wP2dd0ZV-bDv",
        "outputId": "f6bdb46d-9e72-41a2-920d-5a1364bda51b"
      },
      "source": [
        "import pandas as pd\n",
        "pd.DataFrame(history2.history).plot()"
      ],
      "execution_count": 8,
      "outputs": [
        {
          "output_type": "execute_result",
          "data": {
            "text/plain": [
              "<matplotlib.axes._subplots.AxesSubplot at 0x7fec3a675b90>"
            ]
          },
          "metadata": {
            "tags": []
          },
          "execution_count": 8
        },
        {
          "output_type": "display_data",
          "data": {
            "image/png": "[encoded data removed]",
            "text/plain": [
              "<Figure size 432x288 with 1 Axes>"
            ]
          },
          "metadata": {
            "tags": [],
            "needs_background": "light"
          }
        }
      ]
    },
    {
      "cell_type": "code",
      "metadata": {
        "id": "bMSvUB3L-i89"
      },
      "source": [
        "model2.save(\"model2_cifar_20epoch_dropout.h5\")"
      ],
      "execution_count": 9,
      "outputs": []
    },
    {
      "cell_type": "code",
      "metadata": {
        "id": "xoUzq8c1_XFz"
      },
      "source": [
        ""
      ],
      "execution_count": null,
      "outputs": []
    }
  ]
}